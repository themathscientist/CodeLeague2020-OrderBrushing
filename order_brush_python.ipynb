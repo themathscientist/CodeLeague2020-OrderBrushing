{
 "cells": [
  {
   "cell_type": "code",
   "execution_count": 1,
   "metadata": {},
   "outputs": [],
   "source": [
    "import pandas as pd\n",
    "import pandasql as pdsql\n",
    "import os\n",
    "import datetime\n",
    "from collections import deque, Counter"
   ]
  },
  {
   "cell_type": "markdown",
   "metadata": {},
   "source": [
    "# Read and preprocess the input"
   ]
  },
  {
   "cell_type": "code",
   "execution_count": 2,
   "metadata": {},
   "outputs": [
    {
     "data": {
      "text/html": [
       "<div>\n",
       "<style scoped>\n",
       "    .dataframe tbody tr th:only-of-type {\n",
       "        vertical-align: middle;\n",
       "    }\n",
       "\n",
       "    .dataframe tbody tr th {\n",
       "        vertical-align: top;\n",
       "    }\n",
       "\n",
       "    .dataframe thead th {\n",
       "        text-align: right;\n",
       "    }\n",
       "</style>\n",
       "<table border=\"1\" class=\"dataframe\">\n",
       "  <thead>\n",
       "    <tr style=\"text-align: right;\">\n",
       "      <th></th>\n",
       "      <th>orderid</th>\n",
       "      <th>shopid</th>\n",
       "      <th>userid</th>\n",
       "      <th>event_time</th>\n",
       "    </tr>\n",
       "  </thead>\n",
       "  <tbody>\n",
       "    <tr>\n",
       "      <th>0</th>\n",
       "      <td>31076582227611</td>\n",
       "      <td>93950878</td>\n",
       "      <td>30530270</td>\n",
       "      <td>2019-12-27 00:23:03</td>\n",
       "    </tr>\n",
       "    <tr>\n",
       "      <th>1</th>\n",
       "      <td>31118059853484</td>\n",
       "      <td>156423439</td>\n",
       "      <td>46057927</td>\n",
       "      <td>2019-12-27 11:54:20</td>\n",
       "    </tr>\n",
       "    <tr>\n",
       "      <th>2</th>\n",
       "      <td>31123355095755</td>\n",
       "      <td>173699291</td>\n",
       "      <td>67341739</td>\n",
       "      <td>2019-12-27 13:22:35</td>\n",
       "    </tr>\n",
       "    <tr>\n",
       "      <th>3</th>\n",
       "      <td>31122059872723</td>\n",
       "      <td>63674025</td>\n",
       "      <td>149380322</td>\n",
       "      <td>2019-12-27 13:01:00</td>\n",
       "    </tr>\n",
       "    <tr>\n",
       "      <th>4</th>\n",
       "      <td>31117075665123</td>\n",
       "      <td>127249066</td>\n",
       "      <td>149493217</td>\n",
       "      <td>2019-12-27 11:37:55</td>\n",
       "    </tr>\n",
       "  </tbody>\n",
       "</table>\n",
       "</div>"
      ],
      "text/plain": [
       "          orderid     shopid     userid           event_time\n",
       "0  31076582227611   93950878   30530270  2019-12-27 00:23:03\n",
       "1  31118059853484  156423439   46057927  2019-12-27 11:54:20\n",
       "2  31123355095755  173699291   67341739  2019-12-27 13:22:35\n",
       "3  31122059872723   63674025  149380322  2019-12-27 13:01:00\n",
       "4  31117075665123  127249066  149493217  2019-12-27 11:37:55"
      ]
     },
     "execution_count": 2,
     "metadata": {},
     "output_type": "execute_result"
    }
   ],
   "source": [
    "datadir = '/home/AzureUser/data/order_brushing'\n",
    "input_filename = 'order_brush_order.csv'\n",
    "input_filepath = os.path.join(datadir, input_filename)\n",
    "\n",
    "input_df = pd.read_csv(input_filepath)\n",
    "input_df.head(5)"
   ]
  },
  {
   "cell_type": "code",
   "execution_count": 3,
   "metadata": {},
   "outputs": [],
   "source": [
    "# Convert event_time to datetime format\n",
    "def str2datetime(s):\n",
    "    return datetime.datetime.strptime(s, '%Y-%m-%d %H:%M:%S')\n",
    "\n",
    "input_df['event_time'] = input_df['event_time'].apply(str2datetime)"
   ]
  },
  {
   "cell_type": "markdown",
   "metadata": {},
   "source": [
    "# Get possible order brushing time range\n",
    "\n",
    "From the problems, an order is considered as part of order brushing if there is an hour timerange that have concentration rate more than or equal to 3.\n",
    "Since time is real number and continuous, there are infinitely many timerange that is possible for order brushing.\n",
    "But our goal is just to see whether an order is a part of order brushing or not, hence if we have many timeranges with the same orders, we just need to take one of them!\n",
    "\n",
    "One way to make the number of timerange finite, is to discretize. Since the smallest time unit in event_time is second, we can possibly consider all timerange with half second increment.\n",
    "This discretization still got a lot of possible timerange, and we still got many timerange with the same orders!\n",
    "\n",
    "To reduce the possible time-range further, we should consider the interaction between and order and possible time-range.\n",
    "Suppose we have order at time t. The possible different interaction of time-range with the order are as follow:\n",
    "1. Time-range that end just before time t  -> timerange.end = t - epsilon\n",
    "2. Time-range that end exactly at time t   -> timerange.end = t\n",
    "3. Time-range that start exactly at time t -> timerange.start = t\n",
    "4. Time-range that start just after time t -> timerange.start = t + epsilon\n",
    "\n",
    "And if we have a multiple orders and a timerange TR, we could always move timerange TR to either start or end nearby an order, hence satisfy one of the condition 1-4.\n",
    "\n",
    "Since the timerange have fixed length of 1 hour. We can write the 4 conditions with timerange.start only:\n",
    "1. timerange.start + 1 hour = t - epsilon -> timerange.start = t - 1 hour - epsilon\n",
    "2. timerange.start + 1 hour = t           -> timerange.start = t - 1 hour\n",
    "3. timerange.start = t                    -> timerange.start = t\n",
    "4. timerange.start = t + epsilon          -> timerange.start = t + epsilon\n",
    "\n",
    "furthermore since the smallest unit of possible t is 1 second, hence we can set epsilon as 0.5 s.\n",
    "\n",
    "Notes: the timerange should be associated with its shopid\n"
   ]
  },
  {
   "cell_type": "code",
   "execution_count": 4,
   "metadata": {
    "scrolled": true
   },
   "outputs": [],
   "source": [
    "# Create a set of event_times for every shopid\n",
    "# Mapping shopid to set of event_times\n",
    "event_times_dict = {}\n",
    "\n",
    "for shopid, event_time in input_df[['shopid', 'event_time']].to_numpy():\n",
    "    if shopid not in event_times_dict:\n",
    "        event_times_dict[shopid] = set()\n",
    "    event_times_dict[shopid].add(event_time)\n"
   ]
  },
  {
   "cell_type": "code",
   "execution_count": 5,
   "metadata": {},
   "outputs": [],
   "source": [
    "# Expand event_times for each shopid and sort\n",
    "timeranges = {}\n",
    "\n",
    "for shopid, event_times in event_times_dict.items():\n",
    "    timerange_start1 = {t - datetime.timedelta(hours=1, seconds=0.5) for t in event_times}\n",
    "    timerange_start2 = {t - datetime.timedelta(hours=1) for t in event_times}\n",
    "    timerange_start3 = {t for t in event_times}\n",
    "    timerange_start4 = {t + datetime.timedelta(seconds=0.5) for t in event_times}\n",
    "    timeranges[shopid] = sorted(timerange_start1 | timerange_start2 | timerange_start3 | timerange_start4)"
   ]
  },
  {
   "cell_type": "markdown",
   "metadata": {},
   "source": [
    "# Identify order brushing time range\n",
    "For every timerange, we should define it as order brushing if the number of order divided by number of unique user (concentration rate) is more or equal to 3.\n",
    "\n",
    "We should identify all the order brushing timerange, and save the order associated with it."
   ]
  },
  {
   "cell_type": "code",
   "execution_count": 6,
   "metadata": {},
   "outputs": [],
   "source": [
    "# Get sorted list of (orderid, userid, event_time) for every shopid\n",
    "\n",
    "orders_usertime = {}\n",
    "for shopid, orderid, userid, event_time in input_df[['shopid', 'orderid', 'userid', 'event_time']].to_numpy():\n",
    "    if shopid not in orders_usertime:\n",
    "        orders_usertime[shopid] = []\n",
    "    orders_usertime[shopid].append((orderid, userid, event_time))\n",
    "\n",
    "for shopid in orders_usertime:\n",
    "    orders_usertime[shopid].sort(key=lambda x: (x[2], x[0]))"
   ]
  },
  {
   "cell_type": "code",
   "execution_count": 7,
   "metadata": {
    "scrolled": true
   },
   "outputs": [],
   "source": [
    "# On every shopid, we move the timerange windows associated with it. \n",
    "# We will have a queue for the windows, push the orders that still within its range and pop the orders that already outside its range.\n",
    "# On every window, we will check if it is order_brushing, and save it if it is indeed order_brushing\n",
    "# The overall complexity should be O(#order + #timerange)\n",
    "\n",
    "# Save \n",
    "order_brushing = {}\n",
    "\n",
    "for shopid in timeranges:\n",
    "    cur_timeranges = timeranges[shopid]\n",
    "    cur_orders = orders_usertime[shopid]\n",
    "    q = deque()\n",
    "    last_q_index = 0 #Save the last added q_index to order_brushing\n",
    "    last_order_index = 0\n",
    "    # We keep track of user_count, num_order, and num_unique_user to optimize the computation\n",
    "    user_count = Counter()\n",
    "    num_order = 0\n",
    "    num_unique_user = 0\n",
    "    for timerange_start in cur_timeranges:\n",
    "        timerange_end = timerange_start + datetime.timedelta(hours=1)\n",
    "        # Add new order into q\n",
    "        while last_order_index < len(cur_orders) and cur_orders[last_order_index][2] <= timerange_end:\n",
    "            orderid, userid, _ = cur_orders[last_order_index]\n",
    "            q.append(cur_orders[last_order_index])\n",
    "            num_order += 1\n",
    "            if user_count[userid] == 0:\n",
    "                num_unique_user += 1\n",
    "            user_count[userid] += 1\n",
    "            last_order_index += 1\n",
    "        # Remove obsolete order from q\n",
    "        while len(q) > 0 and q[0][2] < timerange_start:\n",
    "            orderid, userid, _ = q.popleft()\n",
    "            num_order -= 1\n",
    "            user_count[userid] -= 1\n",
    "            if user_count[userid] == 0:\n",
    "                user_count.pop(userid, None)\n",
    "                num_unique_user -= 1\n",
    "            # Adjust offset\n",
    "            if last_q_index > 0:\n",
    "                last_q_index -= 1\n",
    "            \n",
    "        # Analyze the current q content\n",
    "        if num_order > 0 and num_order >= num_unique_user * 3:\n",
    "            # Concentration rate >= 3 --> order brushing!\n",
    "            if shopid not in order_brushing:\n",
    "                order_brushing[shopid] = []\n",
    "                # print(\"Add order_brushing for shopid: {}, current q: {}\".format(shopid, q))\n",
    "            for i in range(last_q_index, len(q)):\n",
    "                orderid, userid, event_time = q[i]\n",
    "                order_brushing[shopid].append((orderid, userid, event_time))\n",
    "            # Update last_q_index so we dont add duplicate data into order_brushing\n",
    "            last_q_index = len(q)\n",
    "    "
   ]
  },
  {
   "cell_type": "code",
   "execution_count": 8,
   "metadata": {},
   "outputs": [
    {
     "data": {
      "text/plain": [
       "315"
      ]
     },
     "execution_count": 8,
     "metadata": {},
     "output_type": "execute_result"
    }
   ],
   "source": [
    "len(order_brushing)"
   ]
  },
  {
   "cell_type": "markdown",
   "metadata": {},
   "source": [
    "# Identify the most suspicious users for every shopid\n",
    "The most suspicious users is defined as the users that have most order that is part of order brushing in a particular shop"
   ]
  },
  {
   "cell_type": "markdown",
   "metadata": {},
   "source": [
    "## For every shopid, lets count the number of orders per user"
   ]
  },
  {
   "cell_type": "code",
   "execution_count": 9,
   "metadata": {},
   "outputs": [],
   "source": [
    "user_order_count = {}\n",
    "\n",
    "for shopid in order_brushing:\n",
    "    if shopid not in user_order_count:\n",
    "        user_order_count[shopid] = Counter()\n",
    "    for orderid, userid, event_time in order_brushing[shopid]:\n",
    "        user_order_count[shopid][userid] += 1"
   ]
  },
  {
   "cell_type": "markdown",
   "metadata": {},
   "source": [
    "## Get the maximum number of order per user in each shopid"
   ]
  },
  {
   "cell_type": "code",
   "execution_count": 10,
   "metadata": {},
   "outputs": [],
   "source": [
    "user_order_max = {}\n",
    "for shopid in user_order_count:\n",
    "    user_order_max[shopid] = user_order_count[shopid].most_common(1)[0][1]"
   ]
  },
  {
   "cell_type": "markdown",
   "metadata": {},
   "source": [
    "## Filter the user, just take the user with maximum number of order per shopid"
   ]
  },
  {
   "cell_type": "code",
   "execution_count": 11,
   "metadata": {},
   "outputs": [],
   "source": [
    "filtered_user = {}\n",
    "for shopid in user_order_count:\n",
    "    filtered_user[shopid] = sorted([user for user, count in user_order_count[shopid].items() if count == user_order_max[shopid]])"
   ]
  },
  {
   "cell_type": "markdown",
   "metadata": {},
   "source": [
    "# Now, lets wrap up and build the result csv"
   ]
  },
  {
   "cell_type": "markdown",
   "metadata": {},
   "source": [
    "## First, lets get the unique shopid"
   ]
  },
  {
   "cell_type": "code",
   "execution_count": 12,
   "metadata": {},
   "outputs": [],
   "source": [
    "shopids = sorted(set(input_df['shopid']))"
   ]
  },
  {
   "cell_type": "markdown",
   "metadata": {},
   "source": [
    "## Build the suspicious user as same format as required"
   ]
  },
  {
   "cell_type": "code",
   "execution_count": 13,
   "metadata": {},
   "outputs": [],
   "source": [
    "def safe_convert(users):\n",
    "    if len(users) == 0:\n",
    "        return '0'\n",
    "    else:\n",
    "        return '&'.join([str(user) for user in users])\n",
    "\n",
    "suspicious_users = [safe_convert(filtered_user.get(shopid, [])) for shopid in shopids ]"
   ]
  },
  {
   "cell_type": "markdown",
   "metadata": {},
   "source": [
    "## Now lets build the dataframe containing shopid and corresponding suspicious user"
   ]
  },
  {
   "cell_type": "code",
   "execution_count": 14,
   "metadata": {},
   "outputs": [],
   "source": [
    "result_df = pd.DataFrame({\n",
    "    'shopid': pd.Series(shopids),\n",
    "    'userid': pd.Series(suspicious_users)\n",
    "})"
   ]
  },
  {
   "cell_type": "markdown",
   "metadata": {},
   "source": [
    "## Save into csv"
   ]
  },
  {
   "cell_type": "code",
   "execution_count": 15,
   "metadata": {},
   "outputs": [],
   "source": [
    "result_df.to_csv('order_brushing_result.csv', index=False)"
   ]
  },
  {
   "cell_type": "code",
   "execution_count": null,
   "metadata": {},
   "outputs": [],
   "source": []
  }
 ],
 "metadata": {
  "kernelspec": {
   "display_name": "Python 3",
   "language": "python",
   "name": "python3"
  },
  "language_info": {
   "codemirror_mode": {
    "name": "ipython",
    "version": 3
   },
   "file_extension": ".py",
   "mimetype": "text/x-python",
   "name": "python",
   "nbconvert_exporter": "python",
   "pygments_lexer": "ipython3",
   "version": "3.6.9"
  }
 },
 "nbformat": 4,
 "nbformat_minor": 4
}
